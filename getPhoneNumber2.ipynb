{
 "cells": [
  {
   "cell_type": "code",
   "execution_count": 6,
   "id": "c5f29bb4-d5aa-4e7e-8f06-f0ceab455439",
   "metadata": {},
   "outputs": [],
   "source": [
    "file_name = '学校各电话数据.txt'\n",
    "\n",
    "# 打开文件并读取内容\n",
    "with open(file_name, 'r', encoding='utf-8') as file:\n",
    "    lines = file.readlines()\n",
    "\n",
    "# 用来存储结果\n",
    "output_lines = []\n",
    "# 假设数据是按名字和数字一对一地交替排列\n",
    "for i in range(0, len(lines), 2):  # 每次步进2，以确保一对名字和号码\n",
    "    name = lines[i].strip()  # 获取名字\n",
    "    number = lines[i + 1].strip() if i + 1 < len(lines) else ''  # 获取号码，避免越界\n",
    "    # 生成字典样式的数据并存入output_lines列表\n",
    "    output_lines.append(f\"{{name: '{name}', number: '{number}'}}\")\n",
    "\n",
    "# 打开文件进行写入\n",
    "with open(file_name, 'w', encoding='utf-8') as file:\n",
    "    # 将结果写入文件，每条记录占一行\n",
    "    file.write(\",\\n\".join(output_lines))"
   ]
  },
  {
   "cell_type": "code",
   "execution_count": null,
   "id": "c3e753b6-99a5-46d5-9f3c-f766331fdaaf",
   "metadata": {},
   "outputs": [],
   "source": []
  }
 ],
 "metadata": {
  "kernelspec": {
   "display_name": "Python 3 (ipykernel)",
   "language": "python",
   "name": "python3"
  },
  "language_info": {
   "codemirror_mode": {
    "name": "ipython",
    "version": 3
   },
   "file_extension": ".py",
   "mimetype": "text/x-python",
   "name": "python",
   "nbconvert_exporter": "python",
   "pygments_lexer": "ipython3",
   "version": "3.11.7"
  }
 },
 "nbformat": 4,
 "nbformat_minor": 5
}
