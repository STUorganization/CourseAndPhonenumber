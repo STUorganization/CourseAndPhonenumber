{
 "cells": [
  {
   "cell_type": "code",
   "execution_count": 76,
   "id": "40afd14f-5da7-47b1-82e8-aafacc545f6e",
   "metadata": {},
   "outputs": [],
   "source": [
    "#发生请求\n",
    "import requests\n",
    "#解析网页\n",
    "from bs4 import BeautifulSoup"
   ]
  },
  {
   "cell_type": "code",
   "execution_count": 81,
   "id": "f78ba53b-8b4b-42f0-9337-c2c9f4a92602",
   "metadata": {},
   "outputs": [],
   "source": [
    "#发送http请求\n",
    "url = 'https://xgh.stu.edu.cn/files/stuphone.html'\n",
    "response = requests.get(url)\n",
    "#检查请求发送成功了吗\n",
    "if response.status_code == 200:\n",
    "    response.encoding = 'utf-8'  # 根据实际网页编码设置\n",
    "    html_content = response.text\n",
    "    #解析html内容\n",
    "    soup = BeautifulSoup(html_content, 'html.parser')\n",
    "    #提取所有关于tr标签下面的内容\n",
    "    trs = soup.find_all('tr')\n",
    "    data = []\n",
    "    #再从li下面获取所有的p\n",
    "    for tr in trs:\n",
    "        tds = tr.find_all('td')\n",
    "        if(len(tds) == 2):\n",
    "            data.append(f\"{{name:'{tds[0].get_text()}',number:'{tds[1].get_text()}'}}\")\n",
    "        elif (len(tds) == 3):\n",
    "            data.append(f\"{{name:'{tds[1].get_text()}',number:'{tds[2].get_text()}'}}\")\n",
    "            \n",
    "with open('两个校区.txt','w',encoding='utf-8') as file:\n",
    "    file.write(\",\\n\".join(data))\n",
    "\n",
    "        \n",
    "    # with open('东海岸校区电话数据.txt','a',encoding='utf-8') as file:\n",
    "    #     for row in rows[0:]:\n",
    "    #         print(row.get_text());\n",
    "    #         file.write(row.get_text())\n",
    "    #         file.write('\\n')\n"
   ]
  },
  {
   "cell_type": "code",
   "execution_count": null,
   "id": "ddeb61aa-aa61-47f0-a010-032b7aacfaa9",
   "metadata": {},
   "outputs": [],
   "source": []
  },
  {
   "cell_type": "code",
   "execution_count": null,
   "id": "92fe9669-d306-44ce-a021-37832564c35b",
   "metadata": {},
   "outputs": [],
   "source": []
  }
 ],
 "metadata": {
  "kernelspec": {
   "display_name": "Python 3 (ipykernel)",
   "language": "python",
   "name": "python3"
  },
  "language_info": {
   "codemirror_mode": {
    "name": "ipython",
    "version": 3
   },
   "file_extension": ".py",
   "mimetype": "text/x-python",
   "name": "python",
   "nbconvert_exporter": "python",
   "pygments_lexer": "ipython3",
   "version": "3.11.7"
  }
 },
 "nbformat": 4,
 "nbformat_minor": 5
}
